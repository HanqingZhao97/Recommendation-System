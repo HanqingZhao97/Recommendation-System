{
 "cells": [
  {
   "cell_type": "code",
   "execution_count": 11,
   "metadata": {},
   "outputs": [],
   "source": [
    "\"\"\"Hanqing Zhao\"\"\"\n",
    "\"\"\"A14062115\"\"\"\n",
    "\n",
    "import json\n",
    "from matplotlib import pyplot as plt\n",
    "from collections import defaultdict\n",
    "from sklearn import linear_model\n",
    "from sklearn.metrics import mean_squared_error\n",
    "import numpy as np\n",
    "import random\n",
    "import gzip\n",
    "import math"
   ]
  },
  {
   "cell_type": "code",
   "execution_count": 12,
   "metadata": {},
   "outputs": [],
   "source": [
    "def assertFloat(x): # Checks that an answer is a float\n",
    "    assert type(float(x)) == float\n",
    "\n",
    "def assertFloatList(items, N):\n",
    "    assert len(items) == N\n",
    "    assert [type(float(x)) for x in items] == [float]*N"
   ]
  },
  {
   "cell_type": "code",
   "execution_count": 13,
   "metadata": {},
   "outputs": [],
   "source": [
    "f = gzip.open(\"young_adult_10000.json.gz\")\n",
    "dataset = []\n",
    "for l in f:\n",
    "    dataset.append(json.loads(l))"
   ]
  },
  {
   "cell_type": "code",
   "execution_count": 14,
   "metadata": {},
   "outputs": [
    {
     "data": {
      "text/plain": [
       "10000"
      ]
     },
     "execution_count": 14,
     "metadata": {},
     "output_type": "execute_result"
    }
   ],
   "source": [
    "len(dataset)"
   ]
  },
  {
   "cell_type": "code",
   "execution_count": 15,
   "metadata": {},
   "outputs": [],
   "source": [
    "answers = {} # Put your answers to each question in this dictionary"
   ]
  },
  {
   "cell_type": "code",
   "execution_count": 16,
   "metadata": {},
   "outputs": [],
   "source": [
    "### Question 1"
   ]
  },
  {
   "cell_type": "code",
   "execution_count": 17,
   "metadata": {},
   "outputs": [],
   "source": [
    "def feature_q1(datum):\n",
    "    # your implementation\n",
    "    for i in range(len(datum)):\n",
    "        text = datum[\"review_text\"]\n",
    "        num = text.count(\"!\")\n",
    "    return [1, num]\n",
    "        "
   ]
  },
  {
   "cell_type": "code",
   "execution_count": 30,
   "metadata": {},
   "outputs": [],
   "source": [
    "data_q1 = [d for d in dataset if 'review_text' in d]\n"
   ]
  },
  {
   "cell_type": "code",
   "execution_count": 31,
   "metadata": {},
   "outputs": [],
   "source": [
    "X = [feature_q1(x) for x in data_q1]\n",
    "Y = [data['rating'] for data in data_q1]"
   ]
  },
  {
   "cell_type": "code",
   "execution_count": 32,
   "metadata": {},
   "outputs": [
    {
     "name": "stdout",
     "output_type": "stream",
     "text": [
      "[1, 0]\n"
     ]
    }
   ],
   "source": [
    "print(X[0])"
   ]
  },
  {
   "cell_type": "code",
   "execution_count": 26,
   "metadata": {},
   "outputs": [
    {
     "name": "stdout",
     "output_type": "stream",
     "text": [
      "10000\n"
     ]
    }
   ],
   "source": [
    "print(len(Y))"
   ]
  },
  {
   "cell_type": "code",
   "execution_count": 28,
   "metadata": {},
   "outputs": [
    {
     "name": "stderr",
     "output_type": "stream",
     "text": [
      "<ipython-input-28-47a9f1b745eb>:1: FutureWarning: `rcond` parameter will change to the default of machine precision times ``max(M, N)`` where M and N are the input matrix dimensions.\n",
      "To use the future default and silence this warning we advise to pass `rcond=None`, to keep using the old, explicitly pass `rcond=-1`.\n",
      "  theta, residuals, rank, s = np.linalg.lstsq(X,Y)\n"
     ]
    }
   ],
   "source": [
    "theta, residuals, rank, s = np.linalg.lstsq(X,Y)"
   ]
  },
  {
   "cell_type": "code",
   "execution_count": 12,
   "metadata": {},
   "outputs": [],
   "source": [
    "theta0 = theta[0]\n",
    "theta1 = theta[1]"
   ]
  },
  {
   "cell_type": "code",
   "execution_count": 13,
   "metadata": {},
   "outputs": [],
   "source": [
    "y_pred = [theta0 + theta1*X[i][1] for i in range(len(X))]\n",
    "mse = mean_squared_error(Y,y_pred)"
   ]
  },
  {
   "cell_type": "code",
   "execution_count": 14,
   "metadata": {},
   "outputs": [],
   "source": [
    "answers['Q1'] = [theta0, theta1, mse]"
   ]
  },
  {
   "cell_type": "code",
   "execution_count": 15,
   "metadata": {},
   "outputs": [],
   "source": [
    "assertFloatList(answers['Q1'], 3) # Check the format of your answer (three floats)"
   ]
  },
  {
   "cell_type": "code",
   "execution_count": 16,
   "metadata": {},
   "outputs": [],
   "source": [
    "### Question 2"
   ]
  },
  {
   "cell_type": "code",
   "execution_count": 17,
   "metadata": {},
   "outputs": [],
   "source": [
    "def feature_q2(datum):\n",
    "    for i in range(len(datum)):\n",
    "        text = datum[\"review_text\"]\n",
    "        num = text.count(\"!\")\n",
    "        length = len(text)\n",
    "    return [1,length,num]"
   ]
  },
  {
   "cell_type": "code",
   "execution_count": 18,
   "metadata": {},
   "outputs": [],
   "source": [
    "X = [feature_q2(x) for x in data_q1]\n",
    "Y = [data['rating'] for data in data_q1]"
   ]
  },
  {
   "cell_type": "code",
   "execution_count": 19,
   "metadata": {},
   "outputs": [
    {
     "name": "stderr",
     "output_type": "stream",
     "text": [
      "<ipython-input-19-47a9f1b745eb>:1: FutureWarning: `rcond` parameter will change to the default of machine precision times ``max(M, N)`` where M and N are the input matrix dimensions.\n",
      "To use the future default and silence this warning we advise to pass `rcond=None`, to keep using the old, explicitly pass `rcond=-1`.\n",
      "  theta, residuals, rank, s = np.linalg.lstsq(X,Y)\n"
     ]
    }
   ],
   "source": [
    "theta, residuals, rank, s = np.linalg.lstsq(X,Y)"
   ]
  },
  {
   "cell_type": "code",
   "execution_count": 20,
   "metadata": {},
   "outputs": [],
   "source": [
    "y_pred = [theta[0] + theta[1]*X[i][1] + theta[2]*X[i][2] for i in range(len(X))]\n",
    "mse = mean_squared_error(Y,y_pred)"
   ]
  },
  {
   "cell_type": "code",
   "execution_count": 21,
   "metadata": {},
   "outputs": [
    {
     "data": {
      "text/plain": [
       "[3.717512807797163,\n",
       " -4.1215065294880774e-05,\n",
       " 0.07527591733232637,\n",
       " 1.5214029246165832]"
      ]
     },
     "execution_count": 21,
     "metadata": {},
     "output_type": "execute_result"
    }
   ],
   "source": [
    "answers['Q2'] = [theta[0], theta[1], theta[2], mse]\n",
    "answers['Q2']"
   ]
  },
  {
   "cell_type": "code",
   "execution_count": 22,
   "metadata": {},
   "outputs": [],
   "source": [
    "assertFloatList(answers['Q2'], 4)"
   ]
  },
  {
   "cell_type": "code",
   "execution_count": 23,
   "metadata": {},
   "outputs": [],
   "source": [
    "### Question 3"
   ]
  },
  {
   "cell_type": "code",
   "execution_count": 24,
   "metadata": {},
   "outputs": [],
   "source": [
    "def feature_q3(datum, deg):\n",
    "    # feature for a specific polynomial degree\n",
    "    for i in range(len(datum)):\n",
    "        text = datum[\"review_text\"]\n",
    "        num = text.count(\"!\")\n",
    "        out = [1]\n",
    "        for j in range(1,deg+1):\n",
    "            out = out + [num**j]\n",
    "    return out"
   ]
  },
  {
   "cell_type": "code",
   "execution_count": 25,
   "metadata": {},
   "outputs": [],
   "source": [
    "X1 = [feature_q3(x,1) for x in data_q1]\n",
    "X2 = [feature_q3(x,2) for x in data_q1]\n",
    "X3 = [feature_q3(x,3) for x in data_q1]\n",
    "X4 = [feature_q3(x,4) for x in data_q1]\n",
    "X5 = [feature_q3(x,5) for x in data_q1]\n",
    "Y = [data['rating'] for data in data_q1]"
   ]
  },
  {
   "cell_type": "code",
   "execution_count": 26,
   "metadata": {},
   "outputs": [
    {
     "name": "stderr",
     "output_type": "stream",
     "text": [
      "<ipython-input-26-6641840a0e4d>:1: FutureWarning: `rcond` parameter will change to the default of machine precision times ``max(M, N)`` where M and N are the input matrix dimensions.\n",
      "To use the future default and silence this warning we advise to pass `rcond=None`, to keep using the old, explicitly pass `rcond=-1`.\n",
      "  theta1, residuals, rank, s = np.linalg.lstsq(X1,Y)\n",
      "<ipython-input-26-6641840a0e4d>:2: FutureWarning: `rcond` parameter will change to the default of machine precision times ``max(M, N)`` where M and N are the input matrix dimensions.\n",
      "To use the future default and silence this warning we advise to pass `rcond=None`, to keep using the old, explicitly pass `rcond=-1`.\n",
      "  theta2, residuals, rank, s = np.linalg.lstsq(X2,Y)\n",
      "<ipython-input-26-6641840a0e4d>:3: FutureWarning: `rcond` parameter will change to the default of machine precision times ``max(M, N)`` where M and N are the input matrix dimensions.\n",
      "To use the future default and silence this warning we advise to pass `rcond=None`, to keep using the old, explicitly pass `rcond=-1`.\n",
      "  theta3, residuals, rank, s = np.linalg.lstsq(X3,Y)\n",
      "<ipython-input-26-6641840a0e4d>:4: FutureWarning: `rcond` parameter will change to the default of machine precision times ``max(M, N)`` where M and N are the input matrix dimensions.\n",
      "To use the future default and silence this warning we advise to pass `rcond=None`, to keep using the old, explicitly pass `rcond=-1`.\n",
      "  theta4, residuals, rank, s = np.linalg.lstsq(X4,Y)\n",
      "<ipython-input-26-6641840a0e4d>:5: FutureWarning: `rcond` parameter will change to the default of machine precision times ``max(M, N)`` where M and N are the input matrix dimensions.\n",
      "To use the future default and silence this warning we advise to pass `rcond=None`, to keep using the old, explicitly pass `rcond=-1`.\n",
      "  theta5, residuals, rank, s = np.linalg.lstsq(X5,Y)\n"
     ]
    }
   ],
   "source": [
    "theta1, residuals, rank, s = np.linalg.lstsq(X1,Y)\n",
    "theta2, residuals, rank, s = np.linalg.lstsq(X2,Y)\n",
    "theta3, residuals, rank, s = np.linalg.lstsq(X3,Y)\n",
    "theta4, residuals, rank, s = np.linalg.lstsq(X4,Y)\n",
    "theta5, residuals, rank, s = np.linalg.lstsq(X5,Y)"
   ]
  },
  {
   "cell_type": "code",
   "execution_count": 27,
   "metadata": {},
   "outputs": [],
   "source": [
    "y_pred1 = [theta1[0] + theta1[1]*X1[i][1] for i in range(len(X1))]\n",
    "y_pred2 = [theta2[0] + theta2[1]*X2[i][1] + theta2[2]*X2[i][2] for i in range(len(X2))]\n",
    "y_pred3 = [theta3[0] + theta3[1]*X3[i][1] + theta3[2]*X3[i][2] + theta3[3]*X3[i][3] for i in range(len(X3))]\n",
    "y_pred4 = [theta4[0] + theta4[1]*X4[i][1] + theta4[2]*X4[i][2] + theta4[3]*X4[i][3] + theta4[4]*X4[i][4] for i in range(len(X4))]\n",
    "y_pred5 = [theta5[0] + theta5[1]*X5[i][1] + theta5[2]*X5[i][2] + theta5[3]*X5[i][3] + theta5[4]*X5[i][4] + theta5[5]*X5[i][5] for i in range(len(X5))]\n"
   ]
  },
  {
   "cell_type": "code",
   "execution_count": 28,
   "metadata": {},
   "outputs": [],
   "source": [
    "mse1 = mean_squared_error(Y,y_pred1)\n",
    "mse2 = mean_squared_error(Y,y_pred2)\n",
    "mse3 = mean_squared_error(Y,y_pred3)\n",
    "mse4 = mean_squared_error(Y,y_pred4)\n",
    "mse5 = mean_squared_error(Y,y_pred5)\n",
    "\n",
    "mses = [mse1, mse2, mse3, mse4, mse5]"
   ]
  },
  {
   "cell_type": "code",
   "execution_count": 29,
   "metadata": {},
   "outputs": [],
   "source": [
    "answers['Q3'] = mses"
   ]
  },
  {
   "cell_type": "code",
   "execution_count": 30,
   "metadata": {},
   "outputs": [],
   "source": [
    "assertFloatList(answers['Q3'], 5)# List of length 5"
   ]
  },
  {
   "cell_type": "code",
   "execution_count": 31,
   "metadata": {},
   "outputs": [],
   "source": [
    "### Question 4"
   ]
  },
  {
   "cell_type": "code",
   "execution_count": 32,
   "metadata": {},
   "outputs": [],
   "source": [
    "mid = int(len(dataset)/2)\n",
    "train = dataset[:mid]\n",
    "test = dataset[mid:]"
   ]
  },
  {
   "cell_type": "code",
   "execution_count": 33,
   "metadata": {},
   "outputs": [],
   "source": [
    "X1 = [feature_q3(x,1) for x in train]\n",
    "X2 = [feature_q3(x,2) for x in train]\n",
    "X3 = [feature_q3(x,3) for x in train]\n",
    "X4 = [feature_q3(x,4) for x in train]\n",
    "X5 = [feature_q3(x,5) for x in train]\n",
    "Y_train = [data['rating'] for data in train]"
   ]
  },
  {
   "cell_type": "code",
   "execution_count": 34,
   "metadata": {},
   "outputs": [
    {
     "name": "stderr",
     "output_type": "stream",
     "text": [
      "<ipython-input-34-03f8f67355eb>:1: FutureWarning: `rcond` parameter will change to the default of machine precision times ``max(M, N)`` where M and N are the input matrix dimensions.\n",
      "To use the future default and silence this warning we advise to pass `rcond=None`, to keep using the old, explicitly pass `rcond=-1`.\n",
      "  theta1, residuals, rank, s = np.linalg.lstsq(X1,Y_train)\n",
      "<ipython-input-34-03f8f67355eb>:2: FutureWarning: `rcond` parameter will change to the default of machine precision times ``max(M, N)`` where M and N are the input matrix dimensions.\n",
      "To use the future default and silence this warning we advise to pass `rcond=None`, to keep using the old, explicitly pass `rcond=-1`.\n",
      "  theta2, residuals, rank, s = np.linalg.lstsq(X2,Y_train)\n",
      "<ipython-input-34-03f8f67355eb>:3: FutureWarning: `rcond` parameter will change to the default of machine precision times ``max(M, N)`` where M and N are the input matrix dimensions.\n",
      "To use the future default and silence this warning we advise to pass `rcond=None`, to keep using the old, explicitly pass `rcond=-1`.\n",
      "  theta3, residuals, rank, s = np.linalg.lstsq(X3,Y_train)\n",
      "<ipython-input-34-03f8f67355eb>:4: FutureWarning: `rcond` parameter will change to the default of machine precision times ``max(M, N)`` where M and N are the input matrix dimensions.\n",
      "To use the future default and silence this warning we advise to pass `rcond=None`, to keep using the old, explicitly pass `rcond=-1`.\n",
      "  theta4, residuals, rank, s = np.linalg.lstsq(X4,Y_train)\n",
      "<ipython-input-34-03f8f67355eb>:5: FutureWarning: `rcond` parameter will change to the default of machine precision times ``max(M, N)`` where M and N are the input matrix dimensions.\n",
      "To use the future default and silence this warning we advise to pass `rcond=None`, to keep using the old, explicitly pass `rcond=-1`.\n",
      "  theta5, residuals, rank, s = np.linalg.lstsq(X5,Y_train)\n"
     ]
    }
   ],
   "source": [
    "theta1, residuals, rank, s = np.linalg.lstsq(X1,Y_train)\n",
    "theta2, residuals, rank, s = np.linalg.lstsq(X2,Y_train)\n",
    "theta3, residuals, rank, s = np.linalg.lstsq(X3,Y_train)\n",
    "theta4, residuals, rank, s = np.linalg.lstsq(X4,Y_train)\n",
    "theta5, residuals, rank, s = np.linalg.lstsq(X5,Y_train)"
   ]
  },
  {
   "cell_type": "code",
   "execution_count": 35,
   "metadata": {},
   "outputs": [],
   "source": [
    "X1_t = [feature_q3(x,1) for x in test]\n",
    "X2_t = [feature_q3(x,2) for x in test]\n",
    "X3_t = [feature_q3(x,3) for x in test]\n",
    "X4_t = [feature_q3(x,4) for x in test]\n",
    "X5_t = [feature_q3(x,5) for x in test]\n",
    "Y_test = [data['rating'] for data in test]"
   ]
  },
  {
   "cell_type": "code",
   "execution_count": 36,
   "metadata": {},
   "outputs": [],
   "source": [
    "y_pred1 = [theta1[0] + theta1[1]*X1_t[i][1] for i in range(len(X1_t))]\n",
    "y_pred2 = [theta2[0] + theta2[1]*X2_t[i][1] + theta2[2]*X2_t[i][2] for i in range(len(X2_t))]\n",
    "y_pred3 = [theta3[0] + theta3[1]*X3_t[i][1] + theta3[2]*X3_t[i][2] + theta3[3]*X3_t[i][3] for i in range(len(X3_t))]\n",
    "y_pred4 = [theta4[0] + theta4[1]*X4_t[i][1] + theta4[2]*X4_t[i][2] + theta4[3]*X4_t[i][3] + theta4[4]*X4_t[i][4] for i in range(len(X4_t))]\n",
    "y_pred5 = [theta5[0] + theta5[1]*X5_t[i][1] + theta5[2]*X5_t[i][2] + theta5[3]*X5_t[i][3] + theta5[4]*X5_t[i][4] + theta5[5]*X5_t[i][5] for i in range(len(X5_t))]\n"
   ]
  },
  {
   "cell_type": "code",
   "execution_count": 37,
   "metadata": {},
   "outputs": [],
   "source": [
    "mse1 = mean_squared_error(Y_test,y_pred1)\n",
    "mse2 = mean_squared_error(Y_test,y_pred2)\n",
    "mse3 = mean_squared_error(Y_test,y_pred3)\n",
    "mse4 = mean_squared_error(Y_test,y_pred4)\n",
    "mse5 = mean_squared_error(Y_test,y_pred5)\n",
    "\n",
    "mses = [mse1, mse2, mse3, mse4, mse5]"
   ]
  },
  {
   "cell_type": "code",
   "execution_count": 38,
   "metadata": {},
   "outputs": [],
   "source": [
    "answers['Q4'] = mses"
   ]
  },
  {
   "cell_type": "code",
   "execution_count": 39,
   "metadata": {},
   "outputs": [],
   "source": [
    "assertFloatList(answers['Q4'], 5)"
   ]
  },
  {
   "cell_type": "code",
   "execution_count": 40,
   "metadata": {},
   "outputs": [],
   "source": [
    "### Question 5"
   ]
  },
  {
   "cell_type": "code",
   "execution_count": 41,
   "metadata": {},
   "outputs": [
    {
     "name": "stderr",
     "output_type": "stream",
     "text": [
      "<ipython-input-41-1337aec2adca>:3: FutureWarning: `rcond` parameter will change to the default of machine precision times ``max(M, N)`` where M and N are the input matrix dimensions.\n",
      "To use the future default and silence this warning we advise to pass `rcond=None`, to keep using the old, explicitly pass `rcond=-1`.\n",
      "  theta, residuals, rank, s = np.linalg.lstsq(X,Y_train)\n"
     ]
    }
   ],
   "source": [
    "X = [[1] for i in range(len(train))]\n",
    "Y_train = [data['rating'] for data in train]\n",
    "theta, residuals, rank, s = np.linalg.lstsq(X,Y_train)"
   ]
  },
  {
   "cell_type": "code",
   "execution_count": 42,
   "metadata": {},
   "outputs": [],
   "source": [
    "theta0 = theta[0]"
   ]
  },
  {
   "cell_type": "code",
   "execution_count": 43,
   "metadata": {},
   "outputs": [
    {
     "data": {
      "text/plain": [
       "0.9787841599999838"
      ]
     },
     "execution_count": 43,
     "metadata": {},
     "output_type": "execute_result"
    }
   ],
   "source": [
    "N = len(Y_test)\n",
    "mae = (sum(abs(y-theta0) for y in Y_test))/N\n",
    "mae"
   ]
  },
  {
   "cell_type": "code",
   "execution_count": 44,
   "metadata": {},
   "outputs": [],
   "source": [
    "answers['Q5'] = mae"
   ]
  },
  {
   "cell_type": "code",
   "execution_count": 45,
   "metadata": {},
   "outputs": [],
   "source": [
    "assertFloat(answers['Q5'])"
   ]
  },
  {
   "cell_type": "code",
   "execution_count": 46,
   "metadata": {},
   "outputs": [],
   "source": [
    "### Question 6"
   ]
  },
  {
   "cell_type": "code",
   "execution_count": 80,
   "metadata": {},
   "outputs": [],
   "source": [
    "f = open(\"beer_50000.json\")\n",
    "data_gender = []\n",
    "for l in f:\n",
    "    if 'user/gender' in l:\n",
    "        data_gender.append(eval(l))"
   ]
  },
  {
   "cell_type": "code",
   "execution_count": 81,
   "metadata": {},
   "outputs": [
    {
     "data": {
      "text/plain": [
       "{'review/appearance': 4.0,\n",
       " 'beer/style': 'American Pale Ale (APA)',\n",
       " 'review/palate': 3.5,\n",
       " 'review/taste': 4.0,\n",
       " 'beer/name': 'Caldera Pale Ale',\n",
       " 'review/timeUnix': 1215737527,\n",
       " 'user/gender': 'Male',\n",
       " 'beer/ABV': 5.5,\n",
       " 'beer/beerId': '25414',\n",
       " 'beer/brewerId': '1075',\n",
       " 'review/timeStruct': {'isdst': 0,\n",
       "  'mday': 11,\n",
       "  'hour': 0,\n",
       "  'min': 52,\n",
       "  'sec': 7,\n",
       "  'mon': 7,\n",
       "  'year': 2008,\n",
       "  'yday': 193,\n",
       "  'wday': 4},\n",
       " 'review/overall': 4.5,\n",
       " 'review/text': 'Thanks to flexabull for this in the UGLY BIF. Gotta love craft canned beers.\\t\\tPours a pale yellow color, slight opaqueness, good sized head with a little retention layer and a little bit of lacing.\\t\\tSmell is stronger than I would expect from a pale ale, strong citrus and grapefruit aroma with hops, makes me think it could almost be an IPA if some more hops were added.\\t\\tTaste hits with the hops and citrus first, leaves an interesting bitterness in the mouth, not quite good but not quite bad, carbonation is just right and it goes down crisp and smooth, I could see this being an easily sessionable brew if it was available in Maine.',\n",
       " 'user/profileName': 'deltatauhobbit',\n",
       " 'review/aroma': 4.0}"
      ]
     },
     "execution_count": 81,
     "metadata": {},
     "output_type": "execute_result"
    }
   ],
   "source": [
    "data_gender[40]"
   ]
  },
  {
   "cell_type": "code",
   "execution_count": 88,
   "metadata": {},
   "outputs": [],
   "source": [
    "X = [[d['review/text'].count(\"!\")] for d in data_gender]\n",
    "y = [\"Female\" in d['user/gender'] for d in data_gender]"
   ]
  },
  {
   "cell_type": "code",
   "execution_count": 89,
   "metadata": {},
   "outputs": [
    {
     "data": {
      "text/plain": [
       "[[0], [0], [0], [0], [0], [0], [0], [1], [1], [0]]"
      ]
     },
     "execution_count": 89,
     "metadata": {},
     "output_type": "execute_result"
    }
   ],
   "source": [
    "X[:10]"
   ]
  },
  {
   "cell_type": "code",
   "execution_count": 90,
   "metadata": {},
   "outputs": [
    {
     "data": {
      "text/plain": [
       "[False, False, False, False, False, False, False, False, False, False]"
      ]
     },
     "execution_count": 90,
     "metadata": {},
     "output_type": "execute_result"
    }
   ],
   "source": [
    "y[:10]"
   ]
  },
  {
   "cell_type": "code",
   "execution_count": 91,
   "metadata": {},
   "outputs": [
    {
     "data": {
      "text/plain": [
       "LogisticRegression()"
      ]
     },
     "execution_count": 91,
     "metadata": {},
     "output_type": "execute_result"
    }
   ],
   "source": [
    "model = linear_model.LogisticRegression(C=1.0)\n",
    "model.fit(X,y)"
   ]
  },
  {
   "cell_type": "code",
   "execution_count": 92,
   "metadata": {},
   "outputs": [],
   "source": [
    "pred = model.predict(X)"
   ]
  },
  {
   "cell_type": "code",
   "execution_count": 93,
   "metadata": {},
   "outputs": [
    {
     "data": {
      "text/plain": [
       "0.9849041807577317"
      ]
     },
     "execution_count": 93,
     "metadata": {},
     "output_type": "execute_result"
    }
   ],
   "source": [
    "sum(pred==y)/len(y)"
   ]
  },
  {
   "cell_type": "code",
   "execution_count": 95,
   "metadata": {},
   "outputs": [],
   "source": [
    "correct = pred == y\n",
    "TP_ = np.logical_and(pred, y)\n",
    "FP_ = np.logical_and(pred, np.logical_not(y))\n",
    "TN_ = np.logical_and(np.logical_not(pred), np.logical_not(y))\n",
    "FN_ = np.logical_and(np.logical_not(pred), y)"
   ]
  },
  {
   "cell_type": "code",
   "execution_count": 97,
   "metadata": {},
   "outputs": [],
   "source": [
    "TP = sum(TP_)\n",
    "FP = sum(FP_)\n",
    "TN = sum(TN_)\n",
    "FN = sum(FN_)"
   ]
  },
  {
   "cell_type": "code",
   "execution_count": 98,
   "metadata": {},
   "outputs": [],
   "source": [
    "BER = 1 - 0.5*(TP / (TP + FN) + TN / (TN + FP))"
   ]
  },
  {
   "cell_type": "code",
   "execution_count": 102,
   "metadata": {},
   "outputs": [
    {
     "data": {
      "text/plain": [
       "[0, 20095, 0, 308, 0.5]"
      ]
     },
     "execution_count": 102,
     "metadata": {},
     "output_type": "execute_result"
    }
   ],
   "source": [
    "answers['Q6'] = [TP, TN, FP, FN, BER]\n",
    "answers['Q6']"
   ]
  },
  {
   "cell_type": "code",
   "execution_count": 100,
   "metadata": {},
   "outputs": [],
   "source": [
    "assertFloatList(answers['Q6'], 5)"
   ]
  },
  {
   "cell_type": "code",
   "execution_count": 101,
   "metadata": {},
   "outputs": [],
   "source": [
    "### Question 7"
   ]
  },
  {
   "cell_type": "code",
   "execution_count": 103,
   "metadata": {},
   "outputs": [],
   "source": [
    "mod_balance = linear_model.LogisticRegression(C=1.0, class_weight = 'balanced')"
   ]
  },
  {
   "cell_type": "code",
   "execution_count": 104,
   "metadata": {},
   "outputs": [
    {
     "data": {
      "text/plain": [
       "LogisticRegression(class_weight='balanced')"
      ]
     },
     "execution_count": 104,
     "metadata": {},
     "output_type": "execute_result"
    }
   ],
   "source": [
    "mod_balance.fit(X,y)"
   ]
  },
  {
   "cell_type": "code",
   "execution_count": 106,
   "metadata": {},
   "outputs": [],
   "source": [
    "pred = mod_balance.predict(X)\n",
    "\n",
    "TP_ = np.logical_and(pred, y)\n",
    "FP_ = np.logical_and(pred, np.logical_not(y))\n",
    "TN_ = np.logical_and(np.logical_not(pred), np.logical_not(y))\n",
    "FN_ = np.logical_and(np.logical_not(pred), y)\n",
    "\n",
    "TP = sum(TP_)\n",
    "FP = sum(FP_)\n",
    "TN = sum(TN_)\n",
    "FN = sum(FN_)\n",
    "\n",
    "BER = 1 - 0.5*(TP / (TP + FN) + TN / (TN + FP))"
   ]
  },
  {
   "cell_type": "code",
   "execution_count": 109,
   "metadata": {},
   "outputs": [
    {
     "data": {
      "text/plain": [
       "[88, 16332, 3763, 220, 0.4507731134255145]"
      ]
     },
     "execution_count": 109,
     "metadata": {},
     "output_type": "execute_result"
    }
   ],
   "source": [
    "answers[\"Q7\"] = [TP, TN, FP, FN, BER]\n",
    "answers[\"Q7\"]"
   ]
  },
  {
   "cell_type": "code",
   "execution_count": 110,
   "metadata": {},
   "outputs": [],
   "source": [
    "assertFloatList(answers['Q7'], 5)"
   ]
  },
  {
   "cell_type": "code",
   "execution_count": null,
   "metadata": {},
   "outputs": [],
   "source": [
    "### Question 8"
   ]
  },
  {
   "cell_type": "code",
   "execution_count": 111,
   "metadata": {},
   "outputs": [],
   "source": [
    "#get ranking and precision\n",
    "scores = mod_balance.decision_function(X)\n",
    "scoreslabels = list(zip(scores, y))\n",
    "scoreslabels.sort(reverse=True)\n",
    "sortedlabels = [d[1] for d in scoreslabels]"
   ]
  },
  {
   "cell_type": "code",
   "execution_count": 114,
   "metadata": {},
   "outputs": [
    {
     "data": {
      "text/plain": [
       "[0.0, 0.0, 0.03, 0.033, 0.0308]"
      ]
     },
     "execution_count": 114,
     "metadata": {},
     "output_type": "execute_result"
    }
   ],
   "source": [
    "K = [1,10,100,1000,10000]\n",
    "precisionList = []\n",
    "for k in K:\n",
    "    precision = sum(sortedlabels[:k])/k\n",
    "    precisionList.append(precision)\n",
    "precisionList"
   ]
  },
  {
   "cell_type": "code",
   "execution_count": 115,
   "metadata": {},
   "outputs": [],
   "source": [
    "answers['Q8'] = precisionList"
   ]
  },
  {
   "cell_type": "code",
   "execution_count": 116,
   "metadata": {},
   "outputs": [],
   "source": [
    "assertFloatList(answers['Q8'], 5) #List of five floats"
   ]
  },
  {
   "cell_type": "code",
   "execution_count": 117,
   "metadata": {},
   "outputs": [],
   "source": [
    "f = open(\"answers_hw1.txt\", 'w') # Write your answers to a file\n",
    "f.write(str(answers) + '\\n')\n",
    "f.close()"
   ]
  },
  {
   "cell_type": "code",
   "execution_count": null,
   "metadata": {},
   "outputs": [],
   "source": []
  }
 ],
 "metadata": {
  "kernelspec": {
   "display_name": "Python 3",
   "language": "python",
   "name": "python3"
  },
  "language_info": {
   "codemirror_mode": {
    "name": "ipython",
    "version": 3
   },
   "file_extension": ".py",
   "mimetype": "text/x-python",
   "name": "python",
   "nbconvert_exporter": "python",
   "pygments_lexer": "ipython3",
   "version": "3.8.5"
  }
 },
 "nbformat": 4,
 "nbformat_minor": 5
}
